{
 "cells": [
  {
   "cell_type": "markdown",
   "metadata": {},
   "source": [
    "## Setup"
   ]
  },
  {
   "cell_type": "code",
   "execution_count": 33,
   "metadata": {},
   "outputs": [],
   "source": [
    "import glob\n",
    "\n",
    "from pyspark.sql import SparkSession\n",
    "from pyspark.sql.types import FloatType, IntegerType\n",
    "\n",
    "from pyspark.ml.feature import VectorAssembler\n",
    "from pyspark.ml.regression import LinearRegression\n",
    "from pyspark.ml.evaluation import RegressionEvaluator\n",
    "\n",
    "from pyspark.ml.regression import GBTRegressor\n",
    "from pyspark.ml.tuning import CrossValidator, ParamGridBuilder\n",
    "\n",
    "from pyspark.sql.window import Window\n",
    "from pyspark.sql import functions as F\n",
    "\n",
    "# Initialize Spark Session\n",
    "spark = SparkSession.builder.appName(\"GDELT Analysis\").getOrCreate()"
   ]
  },
  {
   "cell_type": "markdown",
   "metadata": {},
   "source": [
    "## Reading and Dataprep"
   ]
  },
  {
   "cell_type": "code",
   "execution_count": 19,
   "metadata": {},
   "outputs": [],
   "source": [
    "directory = \"/home/ialvarenga/projects/personal/factored-datathon-2024-seed42/\""
   ]
  },
  {
   "cell_type": "code",
   "execution_count": 20,
   "metadata": {},
   "outputs": [
    {
     "name": "stdout",
     "output_type": "stream",
     "text": [
      "Found 226 GKG files\n",
      "Found 226 CSV files\n"
     ]
    }
   ],
   "source": [
    "gkg_files = glob.glob(directory + 'files/**/*export.CSV', recursive=True)\n",
    "print(f\"Found {len(gkg_files)} GKG files\")\n",
    "csv_files = [file for file in gkg_files if file.lower().endswith('.csv')]\n",
    "print(f\"Found {len(csv_files)} CSV files\")"
   ]
  },
  {
   "cell_type": "code",
   "execution_count": 21,
   "metadata": {},
   "outputs": [
    {
     "name": "stderr",
     "output_type": "stream",
     "text": [
      "                                                                                \r"
     ]
    },
    {
     "name": "stdout",
     "output_type": "stream",
     "text": [
      "+-------------+--------+---------+----+------------+----------+----------+-----------------+--------------------+----------------+-------------------+-------------------+---------------+---------------+---------------+----------+-------------+-----------------+--------------------+----------------+-------------------+-------------------+---------------+---------------+---------------+-----------+---------+-------------+-------------+---------+--------------+-----------+----------+-----------+-----------------+--------------+------------------+---------------------+------------------+-------------+--------------+-------------------+--------------+--------------------+---------------------+------------------+-------------+--------------+-------------------+--------------+--------------------+---------------------+------------------+-------------+--------------+-------------------+---------+--------------------+\n",
      "|GLOBALEVENTID| SQLDATE|MonthYear|Year|FractionDate|Actor1Code|Actor1Name|Actor1CountryCode|Actor1KnownGroupCode|Actor1EthnicCode|Actor1Religion1Code|Actor1Religion2Code|Actor1Type1Code|Actor1Type2Code|Actor1Type3Code|Actor2Code|   Actor2Name|Actor2CountryCode|Actor2KnownGroupCode|Actor2EthnicCode|Actor2Religion1Code|Actor2Religion2Code|Actor2Type1Code|Actor2Type2Code|Actor2Type3Code|IsRootEvent|EventCode|EventBaseCode|EventRootCode|QuadClass|GoldsteinScale|NumMentions|NumSources|NumArticles|          AvgTone|Actor1Geo_Type|Actor1Geo_FullName|Actor1Geo_CountryCode|Actor1Geo_ADM1Code|Actor1Geo_Lat|Actor1Geo_Long|Actor1Geo_FeatureID|Actor2Geo_Type|  Actor2Geo_FullName|Actor2Geo_CountryCode|Actor2Geo_ADM1Code|Actor2Geo_Lat|Actor2Geo_Long|Actor2Geo_FeatureID|ActionGeo_Type|  ActionGeo_FullName|ActionGeo_CountryCode|ActionGeo_ADM1Code|ActionGeo_Lat|ActionGeo_Long|ActionGeo_FeatureID|DATEADDED|           SOURCEURL|\n",
      "+-------------+--------+---------+----+------------+----------+----------+-----------------+--------------------+----------------+-------------------+-------------------+---------------+---------------+---------------+----------+-------------+-----------------+--------------------+----------------+-------------------+-------------------+---------------+---------------+---------------+-----------+---------+-------------+-------------+---------+--------------+-----------+----------+-----------+-----------------+--------------+------------------+---------------------+------------------+-------------+--------------+-------------------+--------------+--------------------+---------------------+------------------+-------------+--------------+-------------------+--------------+--------------------+---------------------+------------------+-------------+--------------+-------------------+---------+--------------------+\n",
      "|GLOBALEVENTID| SQLDATE|MonthYear|Year|FractionDate|Actor1Code|Actor1Name|Actor1CountryCode|Actor1KnownGroupCode|Actor1EthnicCode|Actor1Religion1Code|Actor1Religion2Code|Actor1Type1Code|Actor1Type2Code|Actor1Type3Code|Actor2Code|   Actor2Name|Actor2CountryCode|Actor2KnownGroupCode|Actor2EthnicCode|Actor2Religion1Code|Actor2Religion2Code|Actor2Type1Code|Actor2Type2Code|Actor2Type3Code|IsRootEvent|EventCode|EventBaseCode|EventRootCode|QuadClass|GoldsteinScale|NumMentions|NumSources|NumArticles|          AvgTone|Actor1Geo_Type|Actor1Geo_FullName| Actor1Geo_Country...|Actor1Geo_ADM1Code|Actor1Geo_Lat|Actor1Geo_Long|Actor1Geo_FeatureID|Actor2Geo_Type|  Actor2Geo_FullName| Actor2Geo_Country...|Actor2Geo_ADM1Code|Actor2Geo_Lat|Actor2Geo_Long|Actor2Geo_FeatureID|ActionGeo_Type|  ActionGeo_FullName| ActionGeo_Country...|ActionGeo_ADM1Code|ActionGeo_Lat|ActionGeo_Long|ActionGeo_FeatureID|DATEADDED|           SOURCEURL|\n",
      "|   1161944220|20140309|   201403|2014|   2014.1890|       CAN|    CANADA|              CAN|                NULL|            NULL|               NULL|               NULL|           NULL|           NULL|           NULL|       USA|     AMERICAN|              USA|                NULL|            NULL|               NULL|               NULL|           NULL|           NULL|           NULL|          0|      010|          010|           01|        1|           0.0|          4|         1|          4| 1.78890876565295|             1|            Canada|                   CA|                CA|           60|           -96|                 CA|             1|       United States|                   US|                US|    39.828175|      -98.5795|                 US|             1|              Canada|                   CA|                CA|           60|           -96|                 CA| 20240306|https://qz.com/do...|\n",
      "|   1161944221|20230307|   202303|2023|   2023.1836|      NULL|      NULL|             NULL|                NULL|            NULL|               NULL|               NULL|           NULL|           NULL|           NULL|       DZA|        HIPPO|              DZA|                NULL|            NULL|               NULL|               NULL|           NULL|           NULL|           NULL|          0|      190|          190|           19|        4|         -10.0|         10|         1|         10|-3.78151260504202|             0|              NULL|                 NULL|              NULL|         NULL|          NULL|               NULL|             2|New York, United ...|                   US|              USNY|      42.1497|      -74.9384|                 NY|             2|New York, United ...|                   US|              USNY|      42.1497|      -74.9384|                 NY| 20240306|https://metro.co....|\n",
      "|   1161944222|20230307|   202303|2023|   2023.1836|      NULL|      NULL|             NULL|                NULL|            NULL|               NULL|               NULL|           NULL|           NULL|           NULL|       MED|        MEDIA|             NULL|                NULL|            NULL|               NULL|               NULL|            MED|           NULL|           NULL|          1|      042|          042|           04|        1|           1.9|          3|         1|          3| 2.40740740740741|             0|              NULL|                 NULL|              NULL|         NULL|          NULL|               NULL|             2|Texas, United States|                   US|              USTX|       31.106|      -97.6475|                 TX|             2|Texas, United States|                   US|              USTX|       31.106|      -97.6475|                 TX| 20240306|https://uproxx.co...|\n",
      "|   1161944223|20230307|   202303|2023|   2023.1836|      NULL|      NULL|             NULL|                NULL|            NULL|               NULL|               NULL|           NULL|           NULL|           NULL|       USA|UNITED STATES|              USA|                NULL|            NULL|               NULL|               NULL|           NULL|           NULL|           NULL|          1|      112|          112|           11|        3|          -2.0|          6|         1|          6|-9.11528150134051|             0|              NULL|                 NULL|              NULL|         NULL|          NULL|               NULL|             3|Washington, Distr...|                   US|              USDC|      38.8951|      -77.0364|             531871|             3|Washington, Distr...|                   US|              USDC|      38.8951|      -77.0364|             531871| 20240306|https://www.bosto...|\n",
      "+-------------+--------+---------+----+------------+----------+----------+-----------------+--------------------+----------------+-------------------+-------------------+---------------+---------------+---------------+----------+-------------+-----------------+--------------------+----------------+-------------------+-------------------+---------------+---------------+---------------+-----------+---------+-------------+-------------+---------+--------------+-----------+----------+-----------+-----------------+--------------+------------------+---------------------+------------------+-------------+--------------+-------------------+--------------+--------------------+---------------------+------------------+-------------+--------------+-------------------+--------------+--------------------+---------------------+------------------+-------------+--------------+-------------------+---------+--------------------+\n",
      "only showing top 5 rows\n",
      "\n"
     ]
    }
   ],
   "source": [
    "gdelt_df = spark.read.option(\"header\", \"true\").option(\"sep\", \"\\t\").csv(csv_files)\n",
    "\n",
    "gdelt_df.show(5)"
   ]
  },
  {
   "cell_type": "code",
   "execution_count": 22,
   "metadata": {},
   "outputs": [],
   "source": [
    "# Convert SQLDATE to a proper date format\n",
    "gdelt_df = gdelt_df.withColumn('Date', F.to_date(F.col('SQLDATE').cast('string'), 'yyyyMMdd'))\n",
    "\n",
    "# Create year and month columns for easier analysis\n",
    "gdelt_df = gdelt_df.withColumn(\"GoldsteinScale\", F.col(\"GoldsteinScale\").cast(FloatType())) \\\n",
    "                   .withColumn(\"NumMentions\", F.col(\"NumMentions\").cast(IntegerType())) \\\n",
    "                   .withColumn(\"NumSources\", F.col(\"NumSources\").cast(IntegerType())) \\\n",
    "                   .withColumn(\"NumArticles\", F.col(\"NumArticles\").cast(IntegerType()))\\\n",
    "                   .withColumn(\"AvgTone\", F.col(\"AvgTone\").cast(FloatType())) \\\n",
    "\t\t\t\t\t.withColumn(\"EventRootCode\", F.col(\"EventRootCode\").cast((IntegerType())))\n",
    "\n",
    "cameo_df = spark.read.option(\"header\", \"true\").csv(f\"{directory}/files/cameo.csv\", sep=\"\\t\")"
   ]
  },
  {
   "cell_type": "code",
   "execution_count": 23,
   "metadata": {},
   "outputs": [
    {
     "name": "stdout",
     "output_type": "stream",
     "text": [
      "+-------------+--------+---------+----+------------+----------+----------+-----------------+--------------------+----------------+-------------------+-------------------+---------------+---------------+---------------+----------+-------------+-----------------+--------------------+----------------+-------------------+-------------------+---------------+---------------+---------------+-----------+---------+-------------+-------------+---------+--------------+-----------+----------+-----------+----------+--------------+------------------+---------------------+------------------+-------------+--------------+-------------------+--------------+--------------------+---------------------+------------------+-------------+--------------+-------------------+--------------+--------------------+---------------------+------------------+-------------+--------------+-------------------+---------+--------------------+----------+--------------------+\n",
      "|GLOBALEVENTID| SQLDATE|MonthYear|Year|FractionDate|Actor1Code|Actor1Name|Actor1CountryCode|Actor1KnownGroupCode|Actor1EthnicCode|Actor1Religion1Code|Actor1Religion2Code|Actor1Type1Code|Actor1Type2Code|Actor1Type3Code|Actor2Code|   Actor2Name|Actor2CountryCode|Actor2KnownGroupCode|Actor2EthnicCode|Actor2Religion1Code|Actor2Religion2Code|Actor2Type1Code|Actor2Type2Code|Actor2Type3Code|IsRootEvent|EventCode|EventBaseCode|EventRootCode|QuadClass|GoldsteinScale|NumMentions|NumSources|NumArticles|   AvgTone|Actor1Geo_Type|Actor1Geo_FullName|Actor1Geo_CountryCode|Actor1Geo_ADM1Code|Actor1Geo_Lat|Actor1Geo_Long|Actor1Geo_FeatureID|Actor2Geo_Type|  Actor2Geo_FullName|Actor2Geo_CountryCode|Actor2Geo_ADM1Code|Actor2Geo_Lat|Actor2Geo_Long|Actor2Geo_FeatureID|ActionGeo_Type|  ActionGeo_FullName|ActionGeo_CountryCode|ActionGeo_ADM1Code|ActionGeo_Lat|ActionGeo_Long|ActionGeo_FeatureID|DATEADDED|           SOURCEURL|      Date|    EventDescription|\n",
      "+-------------+--------+---------+----+------------+----------+----------+-----------------+--------------------+----------------+-------------------+-------------------+---------------+---------------+---------------+----------+-------------+-----------------+--------------------+----------------+-------------------+-------------------+---------------+---------------+---------------+-----------+---------+-------------+-------------+---------+--------------+-----------+----------+-----------+----------+--------------+------------------+---------------------+------------------+-------------+--------------+-------------------+--------------+--------------------+---------------------+------------------+-------------+--------------+-------------------+--------------+--------------------+---------------------+------------------+-------------+--------------+-------------------+---------+--------------------+----------+--------------------+\n",
      "|GLOBALEVENTID| SQLDATE|MonthYear|Year|FractionDate|Actor1Code|Actor1Name|Actor1CountryCode|Actor1KnownGroupCode|Actor1EthnicCode|Actor1Religion1Code|Actor1Religion2Code|Actor1Type1Code|Actor1Type2Code|Actor1Type3Code|Actor2Code|   Actor2Name|Actor2CountryCode|Actor2KnownGroupCode|Actor2EthnicCode|Actor2Religion1Code|Actor2Religion2Code|Actor2Type1Code|Actor2Type2Code|Actor2Type3Code|IsRootEvent|EventCode|EventBaseCode|         NULL|QuadClass|          NULL|       NULL|      NULL|       NULL|      NULL|Actor1Geo_Type|Actor1Geo_FullName| Actor1Geo_Country...|Actor1Geo_ADM1Code|Actor1Geo_Lat|Actor1Geo_Long|Actor1Geo_FeatureID|Actor2Geo_Type|  Actor2Geo_FullName| Actor2Geo_Country...|Actor2Geo_ADM1Code|Actor2Geo_Lat|Actor2Geo_Long|Actor2Geo_FeatureID|ActionGeo_Type|  ActionGeo_FullName| ActionGeo_Country...|ActionGeo_ADM1Code|ActionGeo_Lat|ActionGeo_Long|ActionGeo_FeatureID|DATEADDED|           SOURCEURL|      NULL|                NULL|\n",
      "|   1161944220|20140309|   201403|2014|   2014.1890|       CAN|    CANADA|              CAN|                NULL|            NULL|               NULL|               NULL|           NULL|           NULL|           NULL|       USA|     AMERICAN|              USA|                NULL|            NULL|               NULL|               NULL|           NULL|           NULL|           NULL|          0|      010|          010|            1|        1|           0.0|          4|         1|          4| 1.7889087|             1|            Canada|                   CA|                CA|           60|           -96|                 CA|             1|       United States|                   US|                US|    39.828175|      -98.5795|                 US|             1|              Canada|                   CA|                CA|           60|           -96|                 CA| 20240306|https://qz.com/do...|2014-03-09|Make statement, n...|\n",
      "|   1161944221|20230307|   202303|2023|   2023.1836|      NULL|      NULL|             NULL|                NULL|            NULL|               NULL|               NULL|           NULL|           NULL|           NULL|       DZA|        HIPPO|              DZA|                NULL|            NULL|               NULL|               NULL|           NULL|           NULL|           NULL|          0|      190|          190|           19|        4|         -10.0|         10|         1|         10|-3.7815125|             0|              NULL|                 NULL|              NULL|         NULL|          NULL|               NULL|             2|New York, United ...|                   US|              USNY|      42.1497|      -74.9384|                 NY|             2|New York, United ...|                   US|              USNY|      42.1497|      -74.9384|                 NY| 20240306|https://metro.co....|2023-03-07|Use conventional ...|\n",
      "|   1161944222|20230307|   202303|2023|   2023.1836|      NULL|      NULL|             NULL|                NULL|            NULL|               NULL|               NULL|           NULL|           NULL|           NULL|       MED|        MEDIA|             NULL|                NULL|            NULL|               NULL|               NULL|            MED|           NULL|           NULL|          1|      042|          042|            4|        1|           1.9|          3|         1|          3| 2.4074075|             0|              NULL|                 NULL|              NULL|         NULL|          NULL|               NULL|             2|Texas, United States|                   US|              USTX|       31.106|      -97.6475|                 TX|             2|Texas, United States|                   US|              USTX|       31.106|      -97.6475|                 TX| 20240306|https://uproxx.co...|2023-03-07|        Make a visit|\n",
      "|   1161944223|20230307|   202303|2023|   2023.1836|      NULL|      NULL|             NULL|                NULL|            NULL|               NULL|               NULL|           NULL|           NULL|           NULL|       USA|UNITED STATES|              USA|                NULL|            NULL|               NULL|               NULL|           NULL|           NULL|           NULL|          1|      112|          112|           11|        3|          -2.0|          6|         1|          6| -9.115281|             0|              NULL|                 NULL|              NULL|         NULL|          NULL|               NULL|             3|Washington, Distr...|                   US|              USDC|      38.8951|      -77.0364|             531871|             3|Washington, Distr...|                   US|              USDC|      38.8951|      -77.0364|             531871| 20240306|https://www.bosto...|2023-03-07|Accuse, not speci...|\n",
      "+-------------+--------+---------+----+------------+----------+----------+-----------------+--------------------+----------------+-------------------+-------------------+---------------+---------------+---------------+----------+-------------+-----------------+--------------------+----------------+-------------------+-------------------+---------------+---------------+---------------+-----------+---------+-------------+-------------+---------+--------------+-----------+----------+-----------+----------+--------------+------------------+---------------------+------------------+-------------+--------------+-------------------+--------------+--------------------+---------------------+------------------+-------------+--------------+-------------------+--------------+--------------------+---------------------+------------------+-------------+--------------+-------------------+---------+--------------------+----------+--------------------+\n",
      "only showing top 5 rows\n",
      "\n"
     ]
    }
   ],
   "source": [
    "sanctions_df = gdelt_df.join(cameo_df, gdelt_df.EventCode == cameo_df.EventCode, \"left\") \\\n",
    "                    .select(gdelt_df[\"*\"], cameo_df[\"EventDescription\"])\n",
    "\n",
    "del(gdelt_df)\n",
    "del(cameo_df)\n",
    "sanctions_df.show(5)"
   ]
  },
  {
   "cell_type": "markdown",
   "metadata": {},
   "source": [
    "## Loading data with sanction codes\n",
    "\n",
    "171: Reduce or eliminate economic sanctions\n",
    "172: Impose economic sanctions\n",
    "173: Reduce or eliminate military aid\n",
    "174: Impose embargo\n",
    "175: Cut off or reduce aid\n",
    "...\n",
    "\n",
    "http://data.gdeltproject.org/documentation/CAMEO.Manual.1.1b3.pdf"
   ]
  },
  {
   "cell_type": "code",
   "execution_count": 24,
   "metadata": {},
   "outputs": [
    {
     "name": "stdout",
     "output_type": "stream",
     "text": [
      "+-------------+--------+---------+----+------------+----------+-------------+-----------------+--------------------+----------------+-------------------+-------------------+---------------+---------------+---------------+----------+----------+-----------------+--------------------+----------------+-------------------+-------------------+---------------+---------------+---------------+-----------+---------+-------------+-------------+---------+--------------+-----------+----------+-----------+----------+--------------+--------------------+---------------------+------------------+-------------+--------------+-------------------+--------------+--------------------+---------------------+------------------+-------------+--------------+-------------------+--------------+--------------------+---------------------+------------------+-------------+--------------+-------------------+---------+--------------------+----------+--------------------+\n",
      "|GLOBALEVENTID| SQLDATE|MonthYear|Year|FractionDate|Actor1Code|   Actor1Name|Actor1CountryCode|Actor1KnownGroupCode|Actor1EthnicCode|Actor1Religion1Code|Actor1Religion2Code|Actor1Type1Code|Actor1Type2Code|Actor1Type3Code|Actor2Code|Actor2Name|Actor2CountryCode|Actor2KnownGroupCode|Actor2EthnicCode|Actor2Religion1Code|Actor2Religion2Code|Actor2Type1Code|Actor2Type2Code|Actor2Type3Code|IsRootEvent|EventCode|EventBaseCode|EventRootCode|QuadClass|GoldsteinScale|NumMentions|NumSources|NumArticles|   AvgTone|Actor1Geo_Type|  Actor1Geo_FullName|Actor1Geo_CountryCode|Actor1Geo_ADM1Code|Actor1Geo_Lat|Actor1Geo_Long|Actor1Geo_FeatureID|Actor2Geo_Type|  Actor2Geo_FullName|Actor2Geo_CountryCode|Actor2Geo_ADM1Code|Actor2Geo_Lat|Actor2Geo_Long|Actor2Geo_FeatureID|ActionGeo_Type|  ActionGeo_FullName|ActionGeo_CountryCode|ActionGeo_ADM1Code|ActionGeo_Lat|ActionGeo_Long|ActionGeo_FeatureID|DATEADDED|           SOURCEURL|      Date|    EventDescription|\n",
      "+-------------+--------+---------+----+------------+----------+-------------+-----------------+--------------------+----------------+-------------------+-------------------+---------------+---------------+---------------+----------+----------+-----------------+--------------------+----------------+-------------------+-------------------+---------------+---------------+---------------+-----------+---------+-------------+-------------+---------+--------------+-----------+----------+-----------+----------+--------------+--------------------+---------------------+------------------+-------------+--------------+-------------------+--------------+--------------------+---------------------+------------------+-------------+--------------+-------------------+--------------+--------------------+---------------------+------------------+-------------+--------------+-------------------+---------+--------------------+----------+--------------------+\n",
      "|   1161944265|20230307|   202303|2023|   2023.1836|       USA|UNITED STATES|              USA|                NULL|            NULL|               NULL|               NULL|           NULL|           NULL|           NULL|    USAJUD|    THE US|              USA|                NULL|            NULL|               NULL|               NULL|            JUD|           NULL|           NULL|          0|      172|          172|           17|        4|          -5.0|         13|         8|         13|-1.6613925|             4|Paris, France (ge...|                   FR|              FR00|      48.8667|       2.33333|           -1456928|             4|Paris, France (ge...|                   FR|              FR00|      48.8667|       2.33333|           -1456928|             2|Nebraska, United ...|                   US|              USNE|      41.1289|      -98.2883|                 NE| 20240306|https://www.couri...|2023-03-07|Impose administra...|\n",
      "|   1161944266|20230307|   202303|2023|   2023.1836|       USA|UNITED STATES|              USA|                NULL|            NULL|               NULL|               NULL|           NULL|           NULL|           NULL|    USAJUD|    THE US|              USA|                NULL|            NULL|               NULL|               NULL|            JUD|           NULL|           NULL|          0|      172|          172|           17|        4|          -5.0|         13|         8|         13|-1.6613925|             2|Nebraska, United ...|                   US|              USNE|      41.1289|      -98.2883|                 NE|             4|Paris, France (ge...|                   FR|              FR00|      48.8667|       2.33333|           -1456928|             2|Nebraska, United ...|                   US|              USNE|      41.1289|      -98.2883|                 NE| 20240306|https://www.couri...|2023-03-07|Impose administra...|\n",
      "|   1161944279|20240205|   202402|2024|   2024.0959|       USA|UNITED STATES|              USA|                NULL|            NULL|               NULL|               NULL|           NULL|           NULL|           NULL|       RUS|   RUSSIAN|              RUS|                NULL|            NULL|               NULL|               NULL|           NULL|           NULL|           NULL|          1|      163|          163|           16|        4|          -8.0|          6|         1|          6| -2.536232|             2|Florida, United S...|                   US|              USFL|      27.8333|       -81.717|                 FL|             1|              Russia|                   RS|                RS|           60|           100|                 RS|             2|Florida, United S...|                   US|              USFL|      27.8333|       -81.717|                 FL| 20240306|https://pakobserv...|2024-02-05|Impose embargo, b...|\n",
      "|   1161944280|20240205|   202402|2024|   2024.0959|       USA|UNITED STATES|              USA|                NULL|            NULL|               NULL|               NULL|           NULL|           NULL|           NULL|       RUS|   RUSSIAN|              RUS|                NULL|            NULL|               NULL|               NULL|           NULL|           NULL|           NULL|          1|      163|          163|           16|        4|          -8.0|          2|         1|          2| -2.536232|             2|Florida, United S...|                   US|              USFL|      27.8333|       -81.717|                 FL|             1|             Ukraine|                   UP|                UP|           49|            32|                 UP|             1|              Russia|                   RS|                RS|           60|           100|                 RS| 20240306|https://pakobserv...|2024-02-05|Impose embargo, b...|\n",
      "|   1161944281|20240205|   202402|2024|   2024.0959|       USA|UNITED STATES|              USA|                NULL|            NULL|               NULL|               NULL|           NULL|           NULL|           NULL|       RUS|    RUSSIA|              RUS|                NULL|            NULL|               NULL|               NULL|           NULL|           NULL|           NULL|          1|      163|          163|           16|        4|          -8.0|          2|         1|          2| -2.536232|             1|             Ukraine|                   UP|                UP|           49|            32|                 UP|             1|              Russia|                   RS|                RS|           60|           100|                 RS|             2|Florida, United S...|                   US|              USFL|      27.8333|       -81.717|                 FL| 20240306|https://pakobserv...|2024-02-05|Impose embargo, b...|\n",
      "+-------------+--------+---------+----+------------+----------+-------------+-----------------+--------------------+----------------+-------------------+-------------------+---------------+---------------+---------------+----------+----------+-----------------+--------------------+----------------+-------------------+-------------------+---------------+---------------+---------------+-----------+---------+-------------+-------------+---------+--------------+-----------+----------+-----------+----------+--------------+--------------------+---------------------+------------------+-------------+--------------+-------------------+--------------+--------------------+---------------------+------------------+-------------+--------------+-------------------+--------------+--------------------+---------------------+------------------+-------------+--------------+-------------------+---------+--------------------+----------+--------------------+\n",
      "only showing top 5 rows\n",
      "\n"
     ]
    }
   ],
   "source": [
    "sanction_codes = [\n",
    "\t'1312', # Threaten to boycott, embargo, or sanction\n",
    "\t'132',  # Threaten with administrative sanctions, not specified below\n",
    "\t'163',  # Impose embargo, boycott, or sanctions\n",
    "\t'172',  # Impose administrative sanctions, not specified below\n",
    "\t'1241', # Refuse to ease administrative sanctions\n",
    "\t'1244'  # Refuse to ease economic sanctions, boycott, or embargo\n",
    "]\n",
    "# Filter GDELT data for sanction-related events\n",
    "sanctions_df = sanctions_df.filter(sanctions_df.EventCode.isin(sanction_codes))\n",
    "\n",
    "sanctions_df.show(5)"
   ]
  },
  {
   "cell_type": "code",
   "execution_count": 25,
   "metadata": {},
   "outputs": [
    {
     "name": "stderr",
     "output_type": "stream",
     "text": [
      "[Stage 388:===================================================> (100 + 2) / 102]\r"
     ]
    },
    {
     "name": "stdout",
     "output_type": "stream",
     "text": [
      "Number of rows: 325686\n",
      "Number of columns: 60\n"
     ]
    },
    {
     "name": "stderr",
     "output_type": "stream",
     "text": [
      "                                                                                \r"
     ]
    }
   ],
   "source": [
    "num_rows = sanctions_df.count()\n",
    "num_columns = len(sanctions_df.columns)\n",
    "\n",
    "print(f\"Number of rows: {num_rows}\")\n",
    "print(f\"Number of columns: {num_columns}\")"
   ]
  },
  {
   "cell_type": "markdown",
   "metadata": {},
   "source": [
    "* Colunas que serão selecionadas para o modelo:\n",
    "\t* IsRootEvent\n",
    "\t* QuadClass\n",
    "\t* GoldSteinScale (y)\n",
    "\t* NumMentions\n",
    "\t* NumMentions\n",
    "\t* NumSources\n",
    "\t* NumArticles\n",
    "\t* AvgTone\n",
    "\t* Actor1Geo_Type\n",
    "\t* Actor2Geo_Type"
   ]
  },
  {
   "cell_type": "code",
   "execution_count": 26,
   "metadata": {},
   "outputs": [],
   "source": [
    "# Create a column to verify if the country had a previous sanction\n",
    "sanctions_df = sanctions_df.orderBy(['Actor2CountryCode', 'Date'])\n",
    "\n",
    "# Create a window specification that defines how to look at previous rows within the same target country\n",
    "window_spec = Window.partitionBy('Actor2CountryCode').orderBy('Date')\n",
    "\n",
    "# Create a lagged column that checks if there was a previous sanction event for the target country\n",
    "sanctions_df = sanctions_df.withColumn(\n",
    "    'PreviousSanction',\n",
    "    F.lag('EventCode').over(window_spec)\n",
    ")\n",
    "\n",
    "# Create a binary flag 'HadPreviousSanction' that indicates if the target country had been sanctioned before\n",
    "sanctions_df = sanctions_df.withColumn(\n",
    "    'HadPreviousSanction',\n",
    "    F.when(F.col('PreviousSanction').isNotNull(), 1).otherwise(0)\n",
    ")\n",
    "\n",
    "# Optionally drop the 'PreviousSanction' column if only the flag is needed\n",
    "sanctions_df = sanctions_df.drop('PreviousSanction')"
   ]
  },
  {
   "cell_type": "code",
   "execution_count": 27,
   "metadata": {},
   "outputs": [],
   "source": [
    "# Select only countries\n",
    "sanctions_df = sanctions_df.filter(F.col('Actor1CountryCode').isNotNull() & F.col('Actor2CountryCode').isNotNull())"
   ]
  },
  {
   "cell_type": "markdown",
   "metadata": {},
   "source": [
    "## Predictive Modeling Considering Sanctions"
   ]
  },
  {
   "cell_type": "code",
   "execution_count": 28,
   "metadata": {},
   "outputs": [],
   "source": [
    "# Select relevant columns\n",
    "selected_columns = [\n",
    "#\t'Actor1CountryCode', 'Actor2CountryCode', #TODO add longitude and latitude\n",
    "\t'Date',\n",
    "    'EventRootCode', 'QuadClass', 'NumMentions', 'NumSources',\n",
    "    'NumArticles', 'AvgTone', 'EventCode', 'GoldsteinScale',\n",
    "]\n",
    "\n",
    "sanctions_df = sanctions_df.select(selected_columns).dropna(subset=['GoldsteinScale'])"
   ]
  },
  {
   "cell_type": "code",
   "execution_count": 29,
   "metadata": {},
   "outputs": [],
   "source": [
    "# 1. Create a binary column 'SanctionAction' to indicate if the event is imposing or threatening sanctions\n",
    "sanctions_df = sanctions_df.withColumn(\n",
    "    'SanctionActionImpose', \n",
    "    F.when(sanctions_df['EventCode'].isin('163', '172'), 1)\n",
    "     .otherwise(0)\n",
    ")\n",
    "\n",
    "# 1. Create a binary column 'SanctionAction' to indicate if the event is imposing or threatening sanctions\n",
    "sanctions_df = sanctions_df.withColumn(\n",
    "    'SanctionActionThreaten', \n",
    "    F.when(sanctions_df['EventCode'].isin('1312', '132'), 1)\n",
    "     .otherwise(0)\n",
    ")\n",
    "\n",
    "# 3. Calculate the 'TotalMediaCoverage' by summing 'NumMentions', 'NumSources', and 'NumArticles'\n",
    "sanctions_df = sanctions_df.withColumn(\n",
    "    'TotalMediaCoverage',\n",
    "    sanctions_df['NumMentions'] + sanctions_df['NumSources'] + sanctions_df['NumArticles']\n",
    ")\n",
    "\n",
    "# 3. Calculate the 'TotalMediaCoverage' by summing 'NumMentions', 'NumSources', and 'NumArticles'\n",
    "sanctions_df = sanctions_df.withColumn(\n",
    "    'VerbalConflict',\n",
    "     F.when(sanctions_df['QuadClass'] == 3, 1).otherwise(0)\n",
    ")\n",
    "\n",
    "# 3. Calculate the 'TotalMediaCoverage' by summing 'NumMentions', 'NumSources', and 'NumArticles'\n",
    "sanctions_df = sanctions_df.withColumn(\n",
    "    'MaterialConflict',\n",
    "    F.when(sanctions_df['QuadClass'] == 4, 1).otherwise(0)\n",
    ")"
   ]
  },
  {
   "cell_type": "code",
   "execution_count": 31,
   "metadata": {},
   "outputs": [],
   "source": [
    "sanctions_df = sanctions_df.drop(\"EventCode\", \"QuadClass\")"
   ]
  },
  {
   "cell_type": "code",
   "execution_count": 32,
   "metadata": {},
   "outputs": [
    {
     "name": "stderr",
     "output_type": "stream",
     "text": [
      "                                                                                \r"
     ]
    },
    {
     "name": "stdout",
     "output_type": "stream",
     "text": [
      "Training set count: 55118\n"
     ]
    },
    {
     "name": "stderr",
     "output_type": "stream",
     "text": [
      "                                                                                \r"
     ]
    },
    {
     "name": "stdout",
     "output_type": "stream",
     "text": [
      "Validation set count: 11811\n"
     ]
    },
    {
     "name": "stderr",
     "output_type": "stream",
     "text": [
      "                                                                                \r"
     ]
    },
    {
     "name": "stdout",
     "output_type": "stream",
     "text": [
      "Test set count: 7406\n"
     ]
    }
   ],
   "source": [
    "# Assemble features\n",
    "assembler = VectorAssembler(inputCols=[col for col in sanctions_df.columns if col != \"GoldsteinScale\" and col != \"Date\"], outputCol=\"features\")\n",
    "data = assembler.transform(sanctions_df)\n",
    "\n",
    "# Select the necessary columns\n",
    "data = data.select(\"features\", \"GoldsteinScale\", \"Date\")\n",
    "\n",
    "# Sort the data by the \"Date\" column\n",
    "data = data.orderBy(F.col(\"Date\"))\n",
    "\n",
    "# Calculate the number of rows\n",
    "total_rows = data.count()\n",
    "\n",
    "# Define the split ratios\n",
    "train_ratio = 0.7\n",
    "validation_ratio = 0.15\n",
    "test_ratio = 0.15\n",
    "\n",
    "# Calculate the split indices\n",
    "train_index = int(total_rows * train_ratio)\n",
    "validation_index = int(total_rows * (train_ratio + validation_ratio))\n",
    "\n",
    "# Split the data into training, validation, and test sets\n",
    "train_data = data.limit(train_index)\n",
    "remaining_data = data.subtract(train_data)\n",
    "validation_data = remaining_data.limit(validation_index - train_index)\n",
    "test_data = remaining_data.subtract(validation_data)\n",
    "\n",
    "# Show the count of each split\n",
    "print(f\"Training set count: {train_data.count()}\")\n",
    "print(f\"Validation set count: {validation_data.count()}\")\n",
    "print(f\"Test set count: {test_data.count()}\")"
   ]
  },
  {
   "cell_type": "code",
   "execution_count": 16,
   "metadata": {},
   "outputs": [
    {
     "name": "stderr",
     "output_type": "stream",
     "text": [
      "24/08/25 00:12:35 WARN Instrumentation: [cbc4a142] regParam is zero, which might cause numerical instability and overfitting.\n",
      "24/08/25 00:12:36 WARN InstanceBuilder: Failed to load implementation from:dev.ludovic.netlib.blas.JNIBLAS\n",
      "24/08/25 00:12:36 WARN InstanceBuilder: Failed to load implementation from:dev.ludovic.netlib.lapack.JNILAPACK\n",
      "24/08/25 00:12:36 WARN Instrumentation: [cbc4a142] Cholesky solver failed due to singular covariance matrix. Retrying with Quasi-Newton solver.\n",
      "                                                                                \r"
     ]
    },
    {
     "name": "stdout",
     "output_type": "stream",
     "text": [
      "Root Mean Squared Error (RMSE) on test data: 7.1452826568068515e-09\n"
     ]
    },
    {
     "name": "stderr",
     "output_type": "stream",
     "text": [
      "[Stage 35:======================================================(102 + 0) / 102]\r"
     ]
    },
    {
     "name": "stdout",
     "output_type": "stream",
     "text": [
      "+------------------+--------------+--------------------+\n",
      "|        prediction|GoldsteinScale|            features|\n",
      "+------------------+--------------+--------------------+\n",
      "| -4.00000001141229|          -4.0|[12.0,1.0,1.0,1.0...|\n",
      "|-4.000000009507408|          -4.0|[12.0,1.0,1.0,1.0...|\n",
      "|-4.000000009368371|          -4.0|[12.0,1.0,1.0,1.0...|\n",
      "|-4.000000009014439|          -4.0|[12.0,1.0,1.0,1.0...|\n",
      "|-4.000000008714878|          -4.0|[12.0,1.0,1.0,1.0...|\n",
      "+------------------+--------------+--------------------+\n",
      "only showing top 5 rows\n",
      "\n"
     ]
    },
    {
     "name": "stderr",
     "output_type": "stream",
     "text": [
      "                                                                                \r"
     ]
    }
   ],
   "source": [
    "# Initialize the Linear Regression model\n",
    "lr = LinearRegression(labelCol=\"GoldsteinScale\", featuresCol=\"features\")\n",
    "\n",
    "# Train the model\n",
    "lr_model = lr.fit(train_data)\n",
    "\n",
    "# Make predictions on the test set\n",
    "predictions = lr_model.transform(test_data)\n",
    "\n",
    "# Evaluate the model\n",
    "evaluator = RegressionEvaluator(labelCol=\"GoldsteinScale\", predictionCol=\"prediction\", metricName=\"rmse\")\n",
    "rmse = evaluator.evaluate(predictions)\n",
    "print(f\"Root Mean Squared Error (RMSE) on test data: {rmse}\")\n",
    "\n",
    "# Show some predictions\n",
    "predictions.select(\"prediction\", \"GoldsteinScale\", \"features\").show(5)"
   ]
  },
  {
   "cell_type": "code",
   "execution_count": 34,
   "metadata": {},
   "outputs": [
    {
     "name": "stderr",
     "output_type": "stream",
     "text": [
      "                                                                                \r"
     ]
    },
    {
     "name": "stdout",
     "output_type": "stream",
     "text": [
      "Best Model RMSE on test data: 0.0\n"
     ]
    },
    {
     "name": "stderr",
     "output_type": "stream",
     "text": [
      "                                                                                \r"
     ]
    },
    {
     "name": "stdout",
     "output_type": "stream",
     "text": [
      "Best Model MAPE on test data: 0.0\n"
     ]
    },
    {
     "name": "stderr",
     "output_type": "stream",
     "text": [
      "                                                                                \r"
     ]
    },
    {
     "name": "stdout",
     "output_type": "stream",
     "text": [
      "+----------+--------------+--------------------+\n",
      "|prediction|GoldsteinScale|            features|\n",
      "+----------+--------------+--------------------+\n",
      "|      -5.0|          -5.0|[17.0,1.0,1.0,1.0...|\n",
      "|      -5.0|          -5.0|[17.0,2.0,1.0,2.0...|\n",
      "|      -5.0|          -5.0|[17.0,7.0,1.0,7.0...|\n",
      "|      -5.0|          -5.0|[17.0,5.0,1.0,5.0...|\n",
      "|      -5.0|          -5.0|[17.0,2.0,1.0,2.0...|\n",
      "+----------+--------------+--------------------+\n",
      "only showing top 5 rows\n",
      "\n"
     ]
    }
   ],
   "source": [
    "gbt = GBTRegressor(labelCol=\"GoldsteinScale\", featuresCol=\"features\")\n",
    "\n",
    "# Define the parameter grid\n",
    "paramGrid = ParamGridBuilder() \\\n",
    "    .addGrid(gbt.maxDepth, [5, 10]) \\\n",
    "    .addGrid(gbt.maxIter, [50, 100]) \\\n",
    "    .addGrid(gbt.stepSize, [0.05, 0.1]) \\\n",
    "    .build()\n",
    "\n",
    "# Define the evaluator\n",
    "evaluator = RegressionEvaluator(labelCol=\"GoldsteinScale\", predictionCol=\"prediction\", metricName=\"rmse\")\n",
    "\n",
    "# Set up CrossValidator\n",
    "crossval = CrossValidator(estimator=gbt,\n",
    "                          estimatorParamMaps=paramGrid,\n",
    "                          evaluator=evaluator,\n",
    "                          numFolds=5)  # 5-fold cross-validation\n",
    "\n",
    "# Fit the CrossValidator to find the best model\n",
    "cv_model = crossval.fit(validation_data)\n",
    "\n",
    "# Get the best model\n",
    "best_model = cv_model.bestModel\n",
    "\n",
    "# Evaluate the best model on the test data\n",
    "test_predictions = best_model.transform(test_data)\n",
    "\n",
    "rmse_test = evaluator.evaluate(test_predictions)\n",
    "print(f\"Best Model RMSE on test data: {rmse_test}\")\n",
    "\n",
    "# Calculate MAPE on the test data\n",
    "test_predictions = test_predictions.withColumn(\"absolute_percentage_error\", abs((F.col(\"GoldsteinScale\") - F.col(\"prediction\")) / F.col(\"GoldsteinScale\")) * 100)\n",
    "mape = test_predictions.selectExpr(\"avg(absolute_percentage_error) as MAPE\").collect()[0][\"MAPE\"]\n",
    "print(f\"Best Model MAPE on test data: {mape}\")\n",
    "\n",
    "# Show sample predictions\n",
    "test_predictions.select(\"prediction\", \"GoldsteinScale\", \"features\").show(5)"
   ]
  },
  {
   "cell_type": "code",
   "execution_count": 35,
   "metadata": {},
   "outputs": [
    {
     "name": "stderr",
     "output_type": "stream",
     "text": [
      "                                                                                \r"
     ]
    },
    {
     "name": "stdout",
     "output_type": "stream",
     "text": [
      "Final Model RMSE on test data: 0.0\n"
     ]
    },
    {
     "name": "stderr",
     "output_type": "stream",
     "text": [
      "                                                                                \r"
     ]
    },
    {
     "name": "stdout",
     "output_type": "stream",
     "text": [
      "Final Model MAPE on test data: 0.0\n"
     ]
    },
    {
     "name": "stderr",
     "output_type": "stream",
     "text": [
      "                                                                                \r"
     ]
    },
    {
     "name": "stdout",
     "output_type": "stream",
     "text": [
      "+----------+--------------+--------------------+\n",
      "|prediction|GoldsteinScale|            features|\n",
      "+----------+--------------+--------------------+\n",
      "|      -5.0|          -5.0|[17.0,1.0,1.0,1.0...|\n",
      "|      -5.0|          -5.0|[17.0,2.0,1.0,2.0...|\n",
      "|      -5.0|          -5.0|[17.0,7.0,1.0,7.0...|\n",
      "|      -5.0|          -5.0|[17.0,5.0,1.0,5.0...|\n",
      "|      -5.0|          -5.0|[17.0,2.0,1.0,2.0...|\n",
      "+----------+--------------+--------------------+\n",
      "only showing top 5 rows\n",
      "\n"
     ]
    }
   ],
   "source": [
    "# Extract the best hyperparameters\n",
    "best_maxDepth = best_model._java_obj.getMaxDepth()\n",
    "best_maxIter = best_model._java_obj.getMaxIter()\n",
    "best_stepSize = best_model._java_obj.getStepSize()\n",
    "\n",
    "# Train a new model using the training dataset with the best hyperparameters\n",
    "final_gbt = GBTRegressor(labelCol=\"GoldsteinScale\", featuresCol=\"features\", maxDepth=best_maxDepth, maxIter=best_maxIter, stepSize=best_stepSize)\n",
    "final_model = final_gbt.fit(train_data)\n",
    "\n",
    "# Evaluate the final model on the test data\n",
    "test_predictions = final_model.transform(test_data)\n",
    "\n",
    "rmse_test = evaluator.evaluate(test_predictions)\n",
    "print(f\"Final Model RMSE on test data: {rmse_test}\")\n",
    "\n",
    "# Calculate MAPE on the test data\n",
    "test_predictions = test_predictions.withColumn(\"absolute_percentage_error\", abs((F.col(\"GoldsteinScale\") - F.col(\"prediction\")) / F.col(\"GoldsteinScale\")) * 100)\n",
    "mape = test_predictions.selectExpr(\"avg(absolute_percentage_error) as MAPE\").collect()[0][\"MAPE\"]\n",
    "print(f\"Final Model MAPE on test data: {mape}\")\n",
    "\n",
    "# Show sample predictions\n",
    "test_predictions.select(\"prediction\", \"GoldsteinScale\", \"features\").show(5)"
   ]
  },
  {
   "cell_type": "code",
   "execution_count": 37,
   "metadata": {},
   "outputs": [
    {
     "name": "stderr",
     "output_type": "stream",
     "text": [
      "2024/08/25 01:13:01 WARNING mlflow.models.model: Input example should be provided to infer model signature if the model signature is not provided when logging the model.\n"
     ]
    },
    {
     "data": {
      "text/plain": [
       "<mlflow.models.model.ModelInfo at 0x7f7573027f40>"
      ]
     },
     "execution_count": 37,
     "metadata": {},
     "output_type": "execute_result"
    }
   ],
   "source": [
    "import mlflow\n",
    "import mlflow.spark\n",
    "\n",
    "mlflow.spark.log_model(final_model, \"model\")"
   ]
  },
  {
   "cell_type": "code",
   "execution_count": 44,
   "metadata": {},
   "outputs": [],
   "source": [
    "final_model_path = f\"{directory}/app/models/final_model\"\n",
    "\n",
    "final_model.save(final_model_path)"
   ]
  }
 ],
 "metadata": {
  "kernelspec": {
   "display_name": ".venv",
   "language": "python",
   "name": "python3"
  },
  "language_info": {
   "codemirror_mode": {
    "name": "ipython",
    "version": 3
   },
   "file_extension": ".py",
   "mimetype": "text/x-python",
   "name": "python",
   "nbconvert_exporter": "python",
   "pygments_lexer": "ipython3",
   "version": "3.10.12"
  }
 },
 "nbformat": 4,
 "nbformat_minor": 2
}
