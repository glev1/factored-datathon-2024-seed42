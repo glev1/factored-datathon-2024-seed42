{
 "cells": [
  {
   "cell_type": "markdown",
   "metadata": {},
   "source": [
    "## Setup"
   ]
  },
  {
   "cell_type": "code",
   "execution_count": 2,
   "metadata": {},
   "outputs": [],
   "source": [
    "from pyspark.sql import SparkSession\n",
    "from pyspark.sql.functions import col\n",
    "from pyspark.sql.types import FloatType, IntegerType\n",
    "import glob\n",
    "\n",
    "# Initialize Spark Session\n",
    "spark = SparkSession.builder \\\n",
    "    .appName(\"GDELT Analysis\") \\\n",
    "    .getOrCreate()"
   ]
  },
  {
   "cell_type": "markdown",
   "metadata": {},
   "source": [
    "## Reading and Dataprep"
   ]
  },
  {
   "cell_type": "code",
   "execution_count": 8,
   "metadata": {},
   "outputs": [
    {
     "name": "stderr",
     "output_type": "stream",
     "text": [
      "                                                                                \r"
     ]
    },
    {
     "name": "stdout",
     "output_type": "stream",
     "text": [
      "+-------------+--------+---------+----+------------+----------+----------+-----------------+--------------------+----------------+-------------------+-------------------+---------------+---------------+---------------+----------+----------+-----------------+--------------------+----------------+-------------------+-------------------+---------------+---------------+---------------+-----------+---------+-------------+-------------+---------+--------------+-----------+----------+-----------+-------+--------------+------------------+---------------------+------------------+-------------+--------------+-------------------+--------------+------------------+---------------------+------------------+-------------+--------------+-------------------+--------------+------------------+---------------------+------------------+-------------+--------------+-------------------+---------+--------------------+--------------------+\n",
      "|GLOBALEVENTID| SQLDATE|MonthYear|Year|FractionDate|Actor1Code|Actor1Name|Actor1CountryCode|Actor1KnownGroupCode|Actor1EthnicCode|Actor1Religion1Code|Actor1Religion2Code|Actor1Type1Code|Actor1Type2Code|Actor1Type3Code|Actor2Code|Actor2Name|Actor2CountryCode|Actor2KnownGroupCode|Actor2EthnicCode|Actor2Religion1Code|Actor2Religion2Code|Actor2Type1Code|Actor2Type2Code|Actor2Type3Code|IsRootEvent|EventCode|EventBaseCode|EventRootCode|QuadClass|GoldsteinScale|NumMentions|NumSources|NumArticles|AvgTone|Actor1Geo_Type|Actor1Geo_FullName|Actor1Geo_CountryCode|Actor1Geo_ADM1Code|Actor1Geo_Lat|Actor1Geo_Long|Actor1Geo_FeatureID|Actor2Geo_Type|Actor2Geo_FullName|Actor2Geo_CountryCode|Actor2Geo_ADM1Code|Actor2Geo_Lat|Actor2Geo_Long|Actor2Geo_FeatureID|ActionGeo_Type|ActionGeo_FullName|ActionGeo_CountryCode|ActionGeo_ADM1Code|ActionGeo_Lat|ActionGeo_Long|ActionGeo_FeatureID|DATEADDED|           SOURCEURL|    EventDescription|\n",
      "+-------------+--------+---------+----+------------+----------+----------+-----------------+--------------------+----------------+-------------------+-------------------+---------------+---------------+---------------+----------+----------+-----------------+--------------------+----------------+-------------------+-------------------+---------------+---------------+---------------+-----------+---------+-------------+-------------+---------+--------------+-----------+----------+-----------+-------+--------------+------------------+---------------------+------------------+-------------+--------------+-------------------+--------------+------------------+---------------------+------------------+-------------+--------------+-------------------+--------------+------------------+---------------------+------------------+-------------+--------------+-------------------+---------+--------------------+--------------------+\n",
      "|         NULL|    NULL|     NULL|NULL|        NULL|Actor1Code|Actor1Name|Actor1CountryCode|Actor1KnownGroupCode|Actor1EthnicCode|Actor1Religion1Code|Actor1Religion2Code|Actor1Type1Code|Actor1Type2Code|Actor1Type3Code|Actor2Code|Actor2Name|Actor2CountryCode|Actor2KnownGroupCode|Actor2EthnicCode|Actor2Religion1Code|Actor2Religion2Code|Actor2Type1Code|Actor2Type2Code|Actor2Type3Code|       NULL|EventCode|EventBaseCode|EventRootCode|     NULL|          NULL|       NULL|      NULL|       NULL|   NULL|          NULL|Actor1Geo_FullName| Actor1Geo_Country...|Actor1Geo_ADM1Code|         NULL|Actor1Geo_Long|Actor1Geo_FeatureID|          NULL|Actor2Geo_FullName| Actor2Geo_Country...|Actor2Geo_ADM1Code|         NULL|Actor2Geo_Long|Actor2Geo_FeatureID|          NULL|ActionGeo_FullName| ActionGeo_Country...|ActionGeo_ADM1Code|         NULL|ActionGeo_Long|ActionGeo_FeatureID|     NULL|           SOURCEURL|                NULL|\n",
      "|         NULL|    NULL|     NULL|NULL|        NULL|Actor1Code|Actor1Name|Actor1CountryCode|Actor1KnownGroupCode|Actor1EthnicCode|Actor1Religion1Code|Actor1Religion2Code|Actor1Type1Code|Actor1Type2Code|Actor1Type3Code|Actor2Code|Actor2Name|Actor2CountryCode|Actor2KnownGroupCode|Actor2EthnicCode|Actor2Religion1Code|Actor2Religion2Code|Actor2Type1Code|Actor2Type2Code|Actor2Type3Code|       NULL|EventCode|EventBaseCode|EventRootCode|     NULL|          NULL|       NULL|      NULL|       NULL|   NULL|          NULL|Actor1Geo_FullName| Actor1Geo_Country...|Actor1Geo_ADM1Code|         NULL|Actor1Geo_Long|Actor1Geo_FeatureID|          NULL|Actor2Geo_FullName| Actor2Geo_Country...|Actor2Geo_ADM1Code|         NULL|Actor2Geo_Long|Actor2Geo_FeatureID|          NULL|ActionGeo_FullName| ActionGeo_Country...|ActionGeo_ADM1Code|         NULL|ActionGeo_Long|ActionGeo_FeatureID|     NULL|           SOURCEURL|                NULL|\n",
      "|         NULL|    NULL|     NULL|NULL|        NULL|Actor1Code|Actor1Name|Actor1CountryCode|Actor1KnownGroupCode|Actor1EthnicCode|Actor1Religion1Code|Actor1Religion2Code|Actor1Type1Code|Actor1Type2Code|Actor1Type3Code|Actor2Code|Actor2Name|Actor2CountryCode|Actor2KnownGroupCode|Actor2EthnicCode|Actor2Religion1Code|Actor2Religion2Code|Actor2Type1Code|Actor2Type2Code|Actor2Type3Code|       NULL|EventCode|EventBaseCode|EventRootCode|     NULL|          NULL|       NULL|      NULL|       NULL|   NULL|          NULL|Actor1Geo_FullName| Actor1Geo_Country...|Actor1Geo_ADM1Code|         NULL|Actor1Geo_Long|Actor1Geo_FeatureID|          NULL|Actor2Geo_FullName| Actor2Geo_Country...|Actor2Geo_ADM1Code|         NULL|Actor2Geo_Long|Actor2Geo_FeatureID|          NULL|ActionGeo_FullName| ActionGeo_Country...|ActionGeo_ADM1Code|         NULL|ActionGeo_Long|ActionGeo_FeatureID|     NULL|           SOURCEURL|                NULL|\n",
      "|   1161944220|20140309|   201403|2014|    2014.189|       CAN|    CANADA|              CAN|                NULL|            NULL|               NULL|               NULL|           NULL|           NULL|           NULL|       USA|  AMERICAN|              USA|                NULL|            NULL|               NULL|               NULL|           NULL|           NULL|           NULL|          0|      010|          010|           01|        1|           0.0|          4|         1|          4|    4.0|             1|            Canada|                   CA|                CA|         60.0|           -96|                 CA|             1|     United States|                   US|                US|    39.828175|      -98.5795|                 US|             1|            Canada|                   CA|                CA|         60.0|           -96|                 CA| 20240306|https://qz.com/do...|              DEMAND|\n",
      "|   1161944220|20140309|   201403|2014|    2014.189|       CAN|    CANADA|              CAN|                NULL|            NULL|               NULL|               NULL|           NULL|           NULL|           NULL|       USA|  AMERICAN|              USA|                NULL|            NULL|               NULL|               NULL|           NULL|           NULL|           NULL|          0|      010|          010|           01|        1|           0.0|          4|         1|          4|    4.0|             1|            Canada|                   CA|                CA|         60.0|           -96|                 CA|             1|     United States|                   US|                US|    39.828175|      -98.5795|                 US|             1|            Canada|                   CA|                CA|         60.0|           -96|                 CA| 20240306|https://qz.com/do...|Make statement, n...|\n",
      "+-------------+--------+---------+----+------------+----------+----------+-----------------+--------------------+----------------+-------------------+-------------------+---------------+---------------+---------------+----------+----------+-----------------+--------------------+----------------+-------------------+-------------------+---------------+---------------+---------------+-----------+---------+-------------+-------------+---------+--------------+-----------+----------+-----------+-------+--------------+------------------+---------------------+------------------+-------------+--------------+-------------------+--------------+------------------+---------------------+------------------+-------------+--------------+-------------------+--------------+------------------+---------------------+------------------+-------------+--------------+-------------------+---------+--------------------+--------------------+\n",
      "only showing top 5 rows\n",
      "\n"
     ]
    }
   ],
   "source": [
    "gkg_files = glob.glob('/home/tiago/factored-datathon-2024-seed42/files/**/*export.CSV', recursive=True)\n",
    "csv_files = [file for file in gkg_files if file.lower().endswith('.csv')]\n",
    "events_df = spark.read.csv(csv_files, sep='\\t', header=True, inferSchema=True)\n",
    "cameo_df = spark.read.csv('/home/tiago/factored-datathon-2024-seed42/files/cameo.csv', sep='\\t', header=True, inferSchema=True)\n",
    "cameo_df = cameo_df.withColumnRenamed(\"EventCode\", \"EventCode_join\")\n",
    "merged_df = events_df.join(cameo_df, events_df['EventCode'] == cameo_df['EventCode_join'], \"left\")\n",
    "gdelt_df = merged_df.drop(\"EventCode_join\")\n",
    "\n",
    "# Create year and month columns for easier analysis\n",
    "gdelt_df = gdelt_df.withColumn(\"GoldsteinScale\", col(\"GoldsteinScale\").cast(FloatType())) \\\n",
    "                   .withColumn(\"NumMentions\", col(\"NumMentions\").cast(IntegerType())) \\\n",
    "                   .withColumn(\"NumSources\", col(\"NumSources\").cast(IntegerType())) \\\n",
    "                   .withColumn(\"NumArticles\", col(\"NumArticles\").cast(IntegerType()))\\\n",
    "                   .withColumn(\"AvgTone\", col(\"NumArticles\").cast(FloatType()))\n",
    "\n",
    "# Show the first few rows\n",
    "gdelt_df.show(5)\n"
   ]
  },
  {
   "cell_type": "markdown",
   "metadata": {},
   "source": [
    "## Loading data with sanction codes\n",
    "\n",
    "http://data.gdeltproject.org/documentation/CAMEO.Manual.1.1b3.pdf"
   ]
  },
  {
   "cell_type": "code",
   "execution_count": 14,
   "metadata": {},
   "outputs": [
    {
     "name": "stdout",
     "output_type": "stream",
     "text": [
      "+-------------+--------+---------+----+------------+----------+-------------+-----------------+--------------------+----------------+-------------------+-------------------+---------------+---------------+---------------+----------+----------+-----------------+--------------------+----------------+-------------------+-------------------+---------------+---------------+---------------+-----------+---------+-------------+-------------+---------+--------------+-----------+----------+-----------+-------+--------------+--------------------+---------------------+------------------+-------------+--------------+-------------------+--------------+--------------------+---------------------+------------------+-------------+--------------+-------------------+--------------+--------------------+---------------------+------------------+-------------+--------------+-------------------+---------+--------------------+--------------------+\n",
      "|GLOBALEVENTID| SQLDATE|MonthYear|Year|FractionDate|Actor1Code|   Actor1Name|Actor1CountryCode|Actor1KnownGroupCode|Actor1EthnicCode|Actor1Religion1Code|Actor1Religion2Code|Actor1Type1Code|Actor1Type2Code|Actor1Type3Code|Actor2Code|Actor2Name|Actor2CountryCode|Actor2KnownGroupCode|Actor2EthnicCode|Actor2Religion1Code|Actor2Religion2Code|Actor2Type1Code|Actor2Type2Code|Actor2Type3Code|IsRootEvent|EventCode|EventBaseCode|EventRootCode|QuadClass|GoldsteinScale|NumMentions|NumSources|NumArticles|AvgTone|Actor1Geo_Type|  Actor1Geo_FullName|Actor1Geo_CountryCode|Actor1Geo_ADM1Code|Actor1Geo_Lat|Actor1Geo_Long|Actor1Geo_FeatureID|Actor2Geo_Type|  Actor2Geo_FullName|Actor2Geo_CountryCode|Actor2Geo_ADM1Code|Actor2Geo_Lat|Actor2Geo_Long|Actor2Geo_FeatureID|ActionGeo_Type|  ActionGeo_FullName|ActionGeo_CountryCode|ActionGeo_ADM1Code|ActionGeo_Lat|ActionGeo_Long|ActionGeo_FeatureID|DATEADDED|           SOURCEURL|    EventDescription|\n",
      "+-------------+--------+---------+----+------------+----------+-------------+-----------------+--------------------+----------------+-------------------+-------------------+---------------+---------------+---------------+----------+----------+-----------------+--------------------+----------------+-------------------+-------------------+---------------+---------------+---------------+-----------+---------+-------------+-------------+---------+--------------+-----------+----------+-----------+-------+--------------+--------------------+---------------------+------------------+-------------+--------------+-------------------+--------------+--------------------+---------------------+------------------+-------------+--------------+-------------------+--------------+--------------------+---------------------+------------------+-------------+--------------+-------------------+---------+--------------------+--------------------+\n",
      "|   1161944265|20230307|   202303|2023|   2023.1836|       USA|UNITED STATES|              USA|                NULL|            NULL|               NULL|               NULL|           NULL|           NULL|           NULL|    USAJUD|    THE US|              USA|                NULL|            NULL|               NULL|               NULL|            JUD|           NULL|           NULL|          0|      172|          172|           17|        4|          -5.0|         13|         8|         13|   13.0|             4|Paris, France (ge...|                   FR|              FR00|      48.8667|       2.33333|           -1456928|             4|Paris, France (ge...|                   FR|              FR00|      48.8667|       2.33333|           -1456928|             2|Nebraska, United ...|                   US|              USNE|      41.1289|      -98.2883|                 NE| 20240306|https://www.couri...|Impose administra...|\n",
      "|   1161944266|20230307|   202303|2023|   2023.1836|       USA|UNITED STATES|              USA|                NULL|            NULL|               NULL|               NULL|           NULL|           NULL|           NULL|    USAJUD|    THE US|              USA|                NULL|            NULL|               NULL|               NULL|            JUD|           NULL|           NULL|          0|      172|          172|           17|        4|          -5.0|         13|         8|         13|   13.0|             2|Nebraska, United ...|                   US|              USNE|      41.1289|      -98.2883|                 NE|             4|Paris, France (ge...|                   FR|              FR00|      48.8667|       2.33333|           -1456928|             2|Nebraska, United ...|                   US|              USNE|      41.1289|      -98.2883|                 NE| 20240306|https://www.couri...|Impose administra...|\n",
      "|   1161944279|20240205|   202402|2024|   2024.0959|       USA|UNITED STATES|              USA|                NULL|            NULL|               NULL|               NULL|           NULL|           NULL|           NULL|       RUS|   RUSSIAN|              RUS|                NULL|            NULL|               NULL|               NULL|           NULL|           NULL|           NULL|          1|      163|          163|           16|        4|          -8.0|          6|         1|          6|    6.0|             2|Florida, United S...|                   US|              USFL|      27.8333|       -81.717|                 FL|             1|              Russia|                   RS|                RS|         60.0|           100|                 RS|             2|Florida, United S...|                   US|              USFL|      27.8333|       -81.717|                 FL| 20240306|https://pakobserv...|Impose embargo, b...|\n",
      "|   1161944280|20240205|   202402|2024|   2024.0959|       USA|UNITED STATES|              USA|                NULL|            NULL|               NULL|               NULL|           NULL|           NULL|           NULL|       RUS|   RUSSIAN|              RUS|                NULL|            NULL|               NULL|               NULL|           NULL|           NULL|           NULL|          1|      163|          163|           16|        4|          -8.0|          2|         1|          2|    2.0|             2|Florida, United S...|                   US|              USFL|      27.8333|       -81.717|                 FL|             1|             Ukraine|                   UP|                UP|         49.0|            32|                 UP|             1|              Russia|                   RS|                RS|         60.0|           100|                 RS| 20240306|https://pakobserv...|Impose embargo, b...|\n",
      "|   1161944281|20240205|   202402|2024|   2024.0959|       USA|UNITED STATES|              USA|                NULL|            NULL|               NULL|               NULL|           NULL|           NULL|           NULL|       RUS|    RUSSIA|              RUS|                NULL|            NULL|               NULL|               NULL|           NULL|           NULL|           NULL|          1|      163|          163|           16|        4|          -8.0|          2|         1|          2|    2.0|             1|             Ukraine|                   UP|                UP|         49.0|            32|                 UP|             1|              Russia|                   RS|                RS|         60.0|           100|                 RS|             2|Florida, United S...|                   US|              USFL|      27.8333|       -81.717|                 FL| 20240306|https://pakobserv...|Impose embargo, b...|\n",
      "+-------------+--------+---------+----+------------+----------+-------------+-----------------+--------------------+----------------+-------------------+-------------------+---------------+---------------+---------------+----------+----------+-----------------+--------------------+----------------+-------------------+-------------------+---------------+---------------+---------------+-----------+---------+-------------+-------------+---------+--------------+-----------+----------+-----------+-------+--------------+--------------------+---------------------+------------------+-------------+--------------+-------------------+--------------+--------------------+---------------------+------------------+-------------+--------------+-------------------+--------------+--------------------+---------------------+------------------+-------------+--------------+-------------------+---------+--------------------+--------------------+\n",
      "only showing top 5 rows\n",
      "\n"
     ]
    }
   ],
   "source": [
    "from pyspark.sql.functions import col\n",
    "\n",
    "# Filter cameo_df based on event description containing \"sanction\"\n",
    "sanctions_df = gdelt_df.filter(col(\"EventDescription\").like(\"%sanction%\"))\n",
    "\n",
    "# Show the filtered DataFrame\n",
    "sanctions_df.show(5)"
   ]
  },
  {
   "cell_type": "markdown",
   "metadata": {},
   "source": [
    "## Geographic Distribution of Sanction-Related Events"
   ]
  },
  {
   "cell_type": "code",
   "execution_count": 17,
   "metadata": {},
   "outputs": [
    {
     "name": "stderr",
     "output_type": "stream",
     "text": [
      "[Stage 64:===================================================>  (100 + 4) / 104]\r"
     ]
    },
    {
     "name": "stdout",
     "output_type": "stream",
     "text": [
      "+---------------------+------+\n",
      "|ActionGeo_CountryCode| count|\n",
      "+---------------------+------+\n",
      "|                   US|149295|\n",
      "|                   UK| 21191|\n",
      "|                   IS| 19847|\n",
      "|                   IN| 17570|\n",
      "|                   RS| 15185|\n",
      "|                   CH| 13330|\n",
      "|                   AS| 10721|\n",
      "|                   CA|  9956|\n",
      "|                   PK|  6484|\n",
      "|                   UP|  6421|\n",
      "|                   NI|  5882|\n",
      "|                   IR|  5612|\n",
      "|                   FR|  4911|\n",
      "|                   EI|  4359|\n",
      "|                   GM|  4157|\n",
      "|                   IT|  2888|\n",
      "|                   SF|  2696|\n",
      "|                   SP|  2690|\n",
      "|                   MX|  2652|\n",
      "|                   VE|  2576|\n",
      "+---------------------+------+\n",
      "only showing top 20 rows\n",
      "\n"
     ]
    },
    {
     "name": "stderr",
     "output_type": "stream",
     "text": [
      "                                                                                \r"
     ]
    }
   ],
   "source": [
    "# Count the number of sanction events by country, excluding None values\n",
    "sanctions_by_country = (\n",
    "    sanctions_df\n",
    "    .filter(sanctions_df.ActionGeo_CountryCode.isNotNull())\n",
    "    .groupBy('ActionGeo_CountryCode')\n",
    "    .count()\n",
    "    .orderBy('count', ascending=False)\n",
    ")\n",
    "\n",
    "sanctions_by_country.show()\n"
   ]
  },
  {
   "cell_type": "markdown",
   "metadata": {},
   "source": [
    "## Temporal Trend of Sanction-Related Events"
   ]
  },
  {
   "cell_type": "code",
   "execution_count": 18,
   "metadata": {},
   "outputs": [
    {
     "name": "stderr",
     "output_type": "stream",
     "text": [
      "[Stage 68:===================================================>  (100 + 4) / 104]\r"
     ]
    },
    {
     "name": "stdout",
     "output_type": "stream",
     "text": [
      "+----+------+\n",
      "|Year| count|\n",
      "+----+------+\n",
      "|2014|    78|\n",
      "|2023|  6871|\n",
      "|2024|391518|\n",
      "+----+------+\n",
      "\n"
     ]
    },
    {
     "name": "stderr",
     "output_type": "stream",
     "text": [
      "                                                                                \r"
     ]
    }
   ],
   "source": [
    "# Count the number of sanction events per year\n",
    "sanctions_by_year = sanctions_df.groupBy('Year').count().orderBy('Year')\n",
    "\n",
    "sanctions_by_year.show()"
   ]
  },
  {
   "cell_type": "markdown",
   "metadata": {},
   "source": [
    "## Sentiment Analysis Related to Sanctions"
   ]
  },
  {
   "cell_type": "code",
   "execution_count": 20,
   "metadata": {},
   "outputs": [
    {
     "name": "stderr",
     "output_type": "stream",
     "text": [
      "[Stage 72:====================================================> (101 + 3) / 104]\r"
     ]
    },
    {
     "name": "stdout",
     "output_type": "stream",
     "text": [
      "+-----------------+------------------+\n",
      "|Actor1CountryCode|           AvgTone|\n",
      "+-----------------+------------------+\n",
      "|              DOM| 36.98620689655172|\n",
      "|              VAT|24.095238095238095|\n",
      "|              BHR|23.878260869565217|\n",
      "|              SLB|            23.125|\n",
      "|              GMB|              22.0|\n",
      "|              URY|18.731182795698924|\n",
      "|              GRC|  17.6103781882146|\n",
      "|              AUS| 17.33591211511682|\n",
      "|              THA| 16.00769230769231|\n",
      "|              ARE|15.710374639769453|\n",
      "|              AFG|14.350940017905103|\n",
      "|             NULL|14.260659694288012|\n",
      "|              TUN|14.215277777777779|\n",
      "|              NOR|14.089316987740805|\n",
      "|              USA|14.000254390784947|\n",
      "|              COL| 13.57948717948718|\n",
      "|              BRA|13.429602888086643|\n",
      "|              SEN|13.013071895424837|\n",
      "|              CAN|12.630941836433422|\n",
      "|              ISR|12.398988682879846|\n",
      "+-----------------+------------------+\n",
      "only showing top 20 rows\n",
      "\n"
     ]
    },
    {
     "name": "stderr",
     "output_type": "stream",
     "text": [
      "                                                                                \r"
     ]
    }
   ],
   "source": [
    "from pyspark.sql.functions import avg\n",
    "\n",
    "# Group by Actor1CountryCode and calculate average tone for sanction-related events\n",
    "sanction_sentiment_by_country = sanctions_df.groupBy('Actor1CountryCode').agg(avg('AvgTone').alias('AvgTone')).orderBy('AvgTone', ascending=False)\n",
    "\n",
    "sanction_sentiment_by_country.show()\n"
   ]
  },
  {
   "cell_type": "markdown",
   "metadata": {},
   "source": [
    "## Identifying Key Actors in Sanction-Related Events"
   ]
  },
  {
   "cell_type": "code",
   "execution_count": 21,
   "metadata": {},
   "outputs": [
    {
     "name": "stderr",
     "output_type": "stream",
     "text": [
      "[Stage 76:====================================================> (101 + 3) / 104]\r"
     ]
    },
    {
     "name": "stdout",
     "output_type": "stream",
     "text": [
      "+--------------+-----+\n",
      "|    Actor1Name|count|\n",
      "+--------------+-----+\n",
      "| UNITED STATES|41977|\n",
      "|UNITED KINGDOM| 9043|\n",
      "|    GOVERNMENT| 8290|\n",
      "|        ISRAEL| 6171|\n",
      "| SUPREME COURT| 6025|\n",
      "|         JUDGE| 5692|\n",
      "|        RUSSIA| 5600|\n",
      "|         CHINA| 5091|\n",
      "|        THE US| 4683|\n",
      "|        SCHOOL| 4052|\n",
      "|     PRESIDENT| 4040|\n",
      "|        CANADA| 3757|\n",
      "|     AUSTRALIA| 3718|\n",
      "|        POLICE| 3367|\n",
      "|         MEDIA| 2985|\n",
      "|       COMPANY| 2794|\n",
      "|       FLORIDA| 2793|\n",
      "|    WASHINGTON| 2790|\n",
      "|ADMINISTRATION| 2779|\n",
      "|       RUSSIAN| 2568|\n",
      "+--------------+-----+\n",
      "only showing top 20 rows\n",
      "\n"
     ]
    },
    {
     "name": "stderr",
     "output_type": "stream",
     "text": [
      "                                                                                \r"
     ]
    }
   ],
   "source": [
    "# Count the number of occurrences of each actor in sanction-related events\n",
    "actors_df = sanctions_df.groupBy('Actor1Name').count().orderBy('count', ascending=False)\n",
    "\n",
    "# Remove null values from actors_df\n",
    "actors_df = actors_df.na.drop()\n",
    "\n",
    "actors_df.show()"
   ]
  },
  {
   "cell_type": "markdown",
   "metadata": {},
   "source": [
    "##  Sentiment Analysis Over Time for Specific Countries"
   ]
  },
  {
   "cell_type": "code",
   "execution_count": 22,
   "metadata": {},
   "outputs": [
    {
     "name": "stderr",
     "output_type": "stream",
     "text": [
      "[Stage 80:====================================================>  (99 + 5) / 104]\r"
     ]
    },
    {
     "name": "stdout",
     "output_type": "stream",
     "text": [
      "+----+-----------------+\n",
      "|Year|          AvgTone|\n",
      "+----+-----------------+\n",
      "|2023|           8.0625|\n",
      "|2024|9.895254756177565|\n",
      "+----+-----------------+\n",
      "\n"
     ]
    },
    {
     "name": "stderr",
     "output_type": "stream",
     "text": [
      "                                                                                \r"
     ]
    }
   ],
   "source": [
    "from pyspark.sql import functions as F\n",
    "\n",
    "# Filter for a specific country (e.g., 'RUS' for Russia)\n",
    "country_df = sanctions_df.filter(F.col('Actor1CountryCode') == 'RUS')\n",
    "\n",
    "# Group by year and calculate average tone\n",
    "sentiment_over_time = country_df.groupBy('Year').agg(F.avg('AvgTone').alias('AvgTone')).orderBy('Year')\n",
    "\n",
    "sentiment_over_time.show()\n"
   ]
  },
  {
   "cell_type": "markdown",
   "metadata": {},
   "source": [
    "## Co-occurrence Analysis of Actors\n"
   ]
  },
  {
   "cell_type": "code",
   "execution_count": 23,
   "metadata": {},
   "outputs": [
    {
     "name": "stderr",
     "output_type": "stream",
     "text": [
      "[Stage 84:====================================================> (101 + 3) / 104]\r"
     ]
    },
    {
     "name": "stdout",
     "output_type": "stream",
     "text": [
      "+-------------+-------------+-----+\n",
      "|   Actor1Name|   Actor2Name|count|\n",
      "+-------------+-------------+-----+\n",
      "|        JUDGE|UNITED STATES| 1060|\n",
      "|       RUSSIA|      UKRAINE|  826|\n",
      "|UNITED STATES|       SCHOOL|  744|\n",
      "|SUPREME COURT|UNITED STATES|  714|\n",
      "|      UKRAINE|       RUSSIA|  663|\n",
      "|       SCHOOL|UNITED STATES|  519|\n",
      "|UNITED STATES|SUPREME COURT|  498|\n",
      "|UNITED STATES|       RUSSIA|  492|\n",
      "|UNITED STATES|       ISRAEL|  437|\n",
      "|UNITED STATES|        JUDGE|  431|\n",
      "|      FLORIDA|UNITED STATES|  425|\n",
      "|    PRESIDENT|UNITED STATES|  424|\n",
      "|     NEW YORK|UNITED STATES|  407|\n",
      "|UNITED STATES|    PRESIDENT|  399|\n",
      "|UNITED STATES|         IRAN|  389|\n",
      "|       ISRAEL|  PALESTINIAN|  378|\n",
      "|UNITED STATES|        MEDIA|  371|\n",
      "|UNITED STATES|        CHINA|  344|\n",
      "|UNITED STATES|     BUSINESS|  341|\n",
      "|UNITED STATES|      STUDENT|  334|\n",
      "+-------------+-------------+-----+\n",
      "only showing top 20 rows\n",
      "\n"
     ]
    },
    {
     "name": "stderr",
     "output_type": "stream",
     "text": [
      "                                                                                \r"
     ]
    }
   ],
   "source": [
    "# Count the co-occurrence of Actor1 and Actor2\n",
    "co_occurrence_df = sanctions_df.groupBy('Actor1Name', 'Actor2Name').count().orderBy('count', ascending=False)\n",
    "\n",
    "# Remove cases where one of the columns is null or equal to another\n",
    "co_occurrence_df = co_occurrence_df.filter((col(\"Actor1Name\").isNotNull()) & (col(\"Actor2Name\").isNotNull()) & (col(\"Actor1Name\") != col(\"Actor2Name\")))\n",
    "\n",
    "co_occurrence_df.show()"
   ]
  },
  {
   "cell_type": "markdown",
   "metadata": {},
   "source": [
    "## Temporal Analysis of Sanction Events by QuadClass\n"
   ]
  },
  {
   "cell_type": "code",
   "execution_count": 24,
   "metadata": {},
   "outputs": [
    {
     "name": "stderr",
     "output_type": "stream",
     "text": [
      "[Stage 88:====================================================> (101 + 3) / 104]\r"
     ]
    },
    {
     "name": "stdout",
     "output_type": "stream",
     "text": [
      "+----+---------+------+\n",
      "|Year|QuadClass| count|\n",
      "+----+---------+------+\n",
      "|2014|        4|    68|\n",
      "|2014|        2|    10|\n",
      "|2023|        2|  1316|\n",
      "|2023|        4|  5317|\n",
      "|2023|        3|   229|\n",
      "|2023|        1|     9|\n",
      "|2024|        3| 13130|\n",
      "|2024|        2| 66077|\n",
      "|2024|        1|   639|\n",
      "|2024|        4|311672|\n",
      "+----+---------+------+\n",
      "\n"
     ]
    },
    {
     "name": "stderr",
     "output_type": "stream",
     "text": [
      "                                                                                \r"
     ]
    }
   ],
   "source": [
    "# Group by year and QuadClass to count events\n",
    "quadclass_over_time = sanctions_df.groupBy('Year', 'QuadClass').count().orderBy('Year')\n",
    "\n",
    "quadclass_over_time.show()"
   ]
  },
  {
   "cell_type": "markdown",
   "metadata": {},
   "source": [
    "## Impact Analysis: Sanctions and Media Attention"
   ]
  },
  {
   "cell_type": "code",
   "execution_count": 25,
   "metadata": {},
   "outputs": [
    {
     "name": "stderr",
     "output_type": "stream",
     "text": [
      "[Stage 92:====================================================> (101 + 3) / 104]\r"
     ]
    },
    {
     "name": "stdout",
     "output_type": "stream",
     "text": [
      "+---------+------------------+\n",
      "|EventCode|       AvgArticles|\n",
      "+---------+------------------+\n",
      "|     0351|21.297794117647058|\n",
      "|     0251|14.976744186046512|\n",
      "|     1241|14.155177386789731|\n",
      "|     1054|13.281879194630873|\n",
      "|      172|13.270516366560324|\n",
      "|     1244|12.986342943854325|\n",
      "|      081|11.927395450737805|\n",
      "|      163|10.369068759033658|\n",
      "|      085| 9.005068518866153|\n",
      "|     1312|  8.33035548110925|\n",
      "|     0254| 7.979757085020243|\n",
      "|      132| 6.004166666666666|\n",
      "|     1051|               5.5|\n",
      "+---------+------------------+\n",
      "\n"
     ]
    },
    {
     "name": "stderr",
     "output_type": "stream",
     "text": [
      "                                                                                \r"
     ]
    }
   ],
   "source": [
    "# Group by EventCode (representing different sanction types) and calculate average number of articles\n",
    "media_attention_df = sanctions_df.groupBy('EventCode').agg(avg('NumArticles').alias('AvgArticles')).orderBy('AvgArticles', ascending=False)\n",
    "\n",
    "# Show the results\n",
    "media_attention_df.show()\n"
   ]
  },
  {
   "cell_type": "markdown",
   "metadata": {},
   "source": [
    "## Analyzing the Effect of Sanctions on International Relations"
   ]
  },
  {
   "cell_type": "code",
   "execution_count": 26,
   "metadata": {},
   "outputs": [
    {
     "name": "stderr",
     "output_type": "stream",
     "text": [
      "[Stage 96:===================================================>  (100 + 4) / 104]\r"
     ]
    },
    {
     "name": "stdout",
     "output_type": "stream",
     "text": [
      "+-----------------+-------------------+\n",
      "|Actor1CountryCode|  AvgGoldsteinScale|\n",
      "+-----------------+-------------------+\n",
      "|              LIE|                5.0|\n",
      "|              EAF|                5.0|\n",
      "|              GNQ|                3.5|\n",
      "|              URY| 1.3118279569892473|\n",
      "|              MAC|                1.0|\n",
      "|              GNB|                1.0|\n",
      "|              CRB|                1.0|\n",
      "|              MWI| 0.6674311907466398|\n",
      "|              LUX| 0.6510638277581398|\n",
      "|              WAF|0.05999999589203669|\n",
      "+-----------------+-------------------+\n",
      "only showing top 10 rows\n",
      "\n"
     ]
    },
    {
     "name": "stderr",
     "output_type": "stream",
     "text": [
      "                                                                                \r"
     ]
    }
   ],
   "source": [
    "# Group by Actor1CountryCode and calculate the average GoldsteinScale for sanctions\n",
    "relation_effect_df = sanctions_df.groupBy('Actor1CountryCode').agg(avg('GoldsteinScale').alias('AvgGoldsteinScale')).orderBy('AvgGoldsteinScale', ascending=False)\n",
    "\n",
    "# Show the results\n",
    "relation_effect_df.show(10)\n"
   ]
  }
 ],
 "metadata": {
  "kernelspec": {
   "display_name": ".venv",
   "language": "python",
   "name": "python3"
  },
  "language_info": {
   "codemirror_mode": {
    "name": "ipython",
    "version": 3
   },
   "file_extension": ".py",
   "mimetype": "text/x-python",
   "name": "python",
   "nbconvert_exporter": "python",
   "pygments_lexer": "ipython3",
   "version": "3.11.7"
  }
 },
 "nbformat": 4,
 "nbformat_minor": 2
}
